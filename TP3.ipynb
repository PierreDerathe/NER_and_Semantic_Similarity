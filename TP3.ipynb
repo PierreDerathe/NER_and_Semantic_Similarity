{
  "cells": [
    {
      "cell_type": "code",
      "execution_count": 1,
      "metadata": {
        "colab": {
          "base_uri": "https://localhost:8080/"
        },
        "id": "7Q6kQCnklmDQ",
        "outputId": "fa1886b0-fbdb-45ee-b142-bea6668e4fa1"
      },
      "outputs": [
        {
          "name": "stdout",
          "output_type": "stream",
          "text": [
            "Requirement already satisfied: gensim in /usr/local/lib/python3.11/dist-packages (4.3.3)\n",
            "Collecting fasttext\n",
            "  Downloading fasttext-0.9.3.tar.gz (73 kB)\n",
            "\u001b[2K     \u001b[90m━━━━━━━━━━━━━━━━━━━━━━━━━━━━━━━━━━━━━━━━\u001b[0m \u001b[32m73.4/73.4 kB\u001b[0m \u001b[31m5.9 MB/s\u001b[0m eta \u001b[36m0:00:00\u001b[0m\n",
            "\u001b[?25h  Installing build dependencies ... \u001b[?25l\u001b[?25hdone\n",
            "  Getting requirements to build wheel ... \u001b[?25l\u001b[?25hdone\n",
            "  Preparing metadata (pyproject.toml) ... \u001b[?25l\u001b[?25hdone\n",
            "Requirement already satisfied: numpy<2.0,>=1.18.5 in /usr/local/lib/python3.11/dist-packages (from gensim) (1.26.4)\n",
            "Requirement already satisfied: scipy<1.14.0,>=1.7.0 in /usr/local/lib/python3.11/dist-packages (from gensim) (1.13.1)\n",
            "Requirement already satisfied: smart-open>=1.8.1 in /usr/local/lib/python3.11/dist-packages (from gensim) (7.1.0)\n",
            "Collecting pybind11>=2.2 (from fasttext)\n",
            "  Using cached pybind11-2.13.6-py3-none-any.whl.metadata (9.5 kB)\n",
            "Requirement already satisfied: setuptools>=0.7.0 in /usr/local/lib/python3.11/dist-packages (from fasttext) (75.1.0)\n",
            "Requirement already satisfied: wrapt in /usr/local/lib/python3.11/dist-packages (from smart-open>=1.8.1->gensim) (1.17.2)\n",
            "Using cached pybind11-2.13.6-py3-none-any.whl (243 kB)\n",
            "Building wheels for collected packages: fasttext\n",
            "  Building wheel for fasttext (pyproject.toml) ... \u001b[?25l\u001b[?25hdone\n",
            "  Created wheel for fasttext: filename=fasttext-0.9.3-cp311-cp311-linux_x86_64.whl size=4313472 sha256=a9ac5412ec4929f36892a90cbf2255732763fcb15573b82bfe7c8966d575f985\n",
            "  Stored in directory: /root/.cache/pip/wheels/65/4f/35/5057db0249224e9ab55a513fa6b79451473ceb7713017823c3\n",
            "Successfully built fasttext\n",
            "Installing collected packages: pybind11, fasttext\n",
            "Successfully installed fasttext-0.9.3 pybind11-2.13.6\n",
            "\u001b[31mERROR: Could not find a version that satisfies the requirement python==3.8 (from versions: none)\u001b[0m\u001b[31m\n",
            "\u001b[0m\u001b[31mERROR: No matching distribution found for python==3.8\u001b[0m\u001b[31m\n",
            "\u001b[0mRequirement already satisfied: torch in /usr/local/lib/python3.11/dist-packages (2.5.1+cu124)\n",
            "Requirement already satisfied: filelock in /usr/local/lib/python3.11/dist-packages (from torch) (3.17.0)\n",
            "Requirement already satisfied: typing-extensions>=4.8.0 in /usr/local/lib/python3.11/dist-packages (from torch) (4.12.2)\n",
            "Requirement already satisfied: networkx in /usr/local/lib/python3.11/dist-packages (from torch) (3.4.2)\n",
            "Requirement already satisfied: jinja2 in /usr/local/lib/python3.11/dist-packages (from torch) (3.1.5)\n",
            "Requirement already satisfied: fsspec in /usr/local/lib/python3.11/dist-packages (from torch) (2024.10.0)\n",
            "Collecting nvidia-cuda-nvrtc-cu12==12.4.127 (from torch)\n",
            "  Downloading nvidia_cuda_nvrtc_cu12-12.4.127-py3-none-manylinux2014_x86_64.whl.metadata (1.5 kB)\n",
            "Collecting nvidia-cuda-runtime-cu12==12.4.127 (from torch)\n",
            "  Downloading nvidia_cuda_runtime_cu12-12.4.127-py3-none-manylinux2014_x86_64.whl.metadata (1.5 kB)\n",
            "Collecting nvidia-cuda-cupti-cu12==12.4.127 (from torch)\n",
            "  Downloading nvidia_cuda_cupti_cu12-12.4.127-py3-none-manylinux2014_x86_64.whl.metadata (1.6 kB)\n",
            "Collecting nvidia-cudnn-cu12==9.1.0.70 (from torch)\n",
            "  Downloading nvidia_cudnn_cu12-9.1.0.70-py3-none-manylinux2014_x86_64.whl.metadata (1.6 kB)\n",
            "Collecting nvidia-cublas-cu12==12.4.5.8 (from torch)\n",
            "  Downloading nvidia_cublas_cu12-12.4.5.8-py3-none-manylinux2014_x86_64.whl.metadata (1.5 kB)\n",
            "Collecting nvidia-cufft-cu12==11.2.1.3 (from torch)\n",
            "  Downloading nvidia_cufft_cu12-11.2.1.3-py3-none-manylinux2014_x86_64.whl.metadata (1.5 kB)\n",
            "Collecting nvidia-curand-cu12==10.3.5.147 (from torch)\n",
            "  Downloading nvidia_curand_cu12-10.3.5.147-py3-none-manylinux2014_x86_64.whl.metadata (1.5 kB)\n",
            "Collecting nvidia-cusolver-cu12==11.6.1.9 (from torch)\n",
            "  Downloading nvidia_cusolver_cu12-11.6.1.9-py3-none-manylinux2014_x86_64.whl.metadata (1.6 kB)\n",
            "Collecting nvidia-cusparse-cu12==12.3.1.170 (from torch)\n",
            "  Downloading nvidia_cusparse_cu12-12.3.1.170-py3-none-manylinux2014_x86_64.whl.metadata (1.6 kB)\n",
            "Requirement already satisfied: nvidia-nccl-cu12==2.21.5 in /usr/local/lib/python3.11/dist-packages (from torch) (2.21.5)\n",
            "Requirement already satisfied: nvidia-nvtx-cu12==12.4.127 in /usr/local/lib/python3.11/dist-packages (from torch) (12.4.127)\n",
            "Collecting nvidia-nvjitlink-cu12==12.4.127 (from torch)\n",
            "  Downloading nvidia_nvjitlink_cu12-12.4.127-py3-none-manylinux2014_x86_64.whl.metadata (1.5 kB)\n",
            "Requirement already satisfied: triton==3.1.0 in /usr/local/lib/python3.11/dist-packages (from torch) (3.1.0)\n",
            "Requirement already satisfied: sympy==1.13.1 in /usr/local/lib/python3.11/dist-packages (from torch) (1.13.1)\n",
            "Requirement already satisfied: mpmath<1.4,>=1.1.0 in /usr/local/lib/python3.11/dist-packages (from sympy==1.13.1->torch) (1.3.0)\n",
            "Requirement already satisfied: MarkupSafe>=2.0 in /usr/local/lib/python3.11/dist-packages (from jinja2->torch) (3.0.2)\n",
            "Downloading nvidia_cublas_cu12-12.4.5.8-py3-none-manylinux2014_x86_64.whl (363.4 MB)\n",
            "\u001b[2K   \u001b[90m━━━━━━━━━━━━━━━━━━━━━━━━━━━━━━━━━━━━━━━━\u001b[0m \u001b[32m363.4/363.4 MB\u001b[0m \u001b[31m5.0 MB/s\u001b[0m eta \u001b[36m0:00:00\u001b[0m\n",
            "\u001b[?25hDownloading nvidia_cuda_cupti_cu12-12.4.127-py3-none-manylinux2014_x86_64.whl (13.8 MB)\n",
            "\u001b[2K   \u001b[90m━━━━━━━━━━━━━━━━━━━━━━━━━━━━━━━━━━━━━━━━\u001b[0m \u001b[32m13.8/13.8 MB\u001b[0m \u001b[31m108.8 MB/s\u001b[0m eta \u001b[36m0:00:00\u001b[0m\n",
            "\u001b[?25hDownloading nvidia_cuda_nvrtc_cu12-12.4.127-py3-none-manylinux2014_x86_64.whl (24.6 MB)\n",
            "\u001b[2K   \u001b[90m━━━━━━━━━━━━━━━━━━━━━━━━━━━━━━━━━━━━━━━━\u001b[0m \u001b[32m24.6/24.6 MB\u001b[0m \u001b[31m82.2 MB/s\u001b[0m eta \u001b[36m0:00:00\u001b[0m\n",
            "\u001b[?25hDownloading nvidia_cuda_runtime_cu12-12.4.127-py3-none-manylinux2014_x86_64.whl (883 kB)\n",
            "\u001b[2K   \u001b[90m━━━━━━━━━━━━━━━━━━━━━━━━━━━━━━━━━━━━━━━━\u001b[0m \u001b[32m883.7/883.7 kB\u001b[0m \u001b[31m52.5 MB/s\u001b[0m eta \u001b[36m0:00:00\u001b[0m\n",
            "\u001b[?25hDownloading nvidia_cudnn_cu12-9.1.0.70-py3-none-manylinux2014_x86_64.whl (664.8 MB)\n",
            "\u001b[2K   \u001b[90m━━━━━━━━━━━━━━━━━━━━━━━━━━━━━━━━━━━━━━━━\u001b[0m \u001b[32m664.8/664.8 MB\u001b[0m \u001b[31m2.1 MB/s\u001b[0m eta \u001b[36m0:00:00\u001b[0m\n",
            "\u001b[?25hDownloading nvidia_cufft_cu12-11.2.1.3-py3-none-manylinux2014_x86_64.whl (211.5 MB)\n",
            "\u001b[2K   \u001b[90m━━━━━━━━━━━━━━━━━━━━━━━━━━━━━━━━━━━━━━━━\u001b[0m \u001b[32m211.5/211.5 MB\u001b[0m \u001b[31m5.8 MB/s\u001b[0m eta \u001b[36m0:00:00\u001b[0m\n",
            "\u001b[?25hDownloading nvidia_curand_cu12-10.3.5.147-py3-none-manylinux2014_x86_64.whl (56.3 MB)\n",
            "\u001b[2K   \u001b[90m━━━━━━━━━━━━━━━━━━━━━━━━━━━━━━━━━━━━━━━━\u001b[0m \u001b[32m56.3/56.3 MB\u001b[0m \u001b[31m11.9 MB/s\u001b[0m eta \u001b[36m0:00:00\u001b[0m\n",
            "\u001b[?25hDownloading nvidia_cusolver_cu12-11.6.1.9-py3-none-manylinux2014_x86_64.whl (127.9 MB)\n",
            "\u001b[2K   \u001b[90m━━━━━━━━━━━━━━━━━━━━━━━━━━━━━━━━━━━━━━━━\u001b[0m \u001b[32m127.9/127.9 MB\u001b[0m \u001b[31m7.4 MB/s\u001b[0m eta \u001b[36m0:00:00\u001b[0m\n",
            "\u001b[?25hDownloading nvidia_cusparse_cu12-12.3.1.170-py3-none-manylinux2014_x86_64.whl (207.5 MB)\n",
            "\u001b[2K   \u001b[90m━━━━━━━━━━━━━━━━━━━━━━━━━━━━━━━━━━━━━━━━\u001b[0m \u001b[32m207.5/207.5 MB\u001b[0m \u001b[31m5.8 MB/s\u001b[0m eta \u001b[36m0:00:00\u001b[0m\n",
            "\u001b[?25hDownloading nvidia_nvjitlink_cu12-12.4.127-py3-none-manylinux2014_x86_64.whl (21.1 MB)\n",
            "\u001b[2K   \u001b[90m━━━━━━━━━━━━━━━━━━━━━━━━━━━━━━━━━━━━━━━━\u001b[0m \u001b[32m21.1/21.1 MB\u001b[0m \u001b[31m86.7 MB/s\u001b[0m eta \u001b[36m0:00:00\u001b[0m\n",
            "\u001b[?25hInstalling collected packages: nvidia-nvjitlink-cu12, nvidia-curand-cu12, nvidia-cufft-cu12, nvidia-cuda-runtime-cu12, nvidia-cuda-nvrtc-cu12, nvidia-cuda-cupti-cu12, nvidia-cublas-cu12, nvidia-cusparse-cu12, nvidia-cudnn-cu12, nvidia-cusolver-cu12\n",
            "  Attempting uninstall: nvidia-nvjitlink-cu12\n",
            "    Found existing installation: nvidia-nvjitlink-cu12 12.5.82\n",
            "    Uninstalling nvidia-nvjitlink-cu12-12.5.82:\n",
            "      Successfully uninstalled nvidia-nvjitlink-cu12-12.5.82\n",
            "  Attempting uninstall: nvidia-curand-cu12\n",
            "    Found existing installation: nvidia-curand-cu12 10.3.6.82\n",
            "    Uninstalling nvidia-curand-cu12-10.3.6.82:\n",
            "      Successfully uninstalled nvidia-curand-cu12-10.3.6.82\n",
            "  Attempting uninstall: nvidia-cufft-cu12\n",
            "    Found existing installation: nvidia-cufft-cu12 11.2.3.61\n",
            "    Uninstalling nvidia-cufft-cu12-11.2.3.61:\n",
            "      Successfully uninstalled nvidia-cufft-cu12-11.2.3.61\n",
            "  Attempting uninstall: nvidia-cuda-runtime-cu12\n",
            "    Found existing installation: nvidia-cuda-runtime-cu12 12.5.82\n",
            "    Uninstalling nvidia-cuda-runtime-cu12-12.5.82:\n",
            "      Successfully uninstalled nvidia-cuda-runtime-cu12-12.5.82\n",
            "  Attempting uninstall: nvidia-cuda-nvrtc-cu12\n",
            "    Found existing installation: nvidia-cuda-nvrtc-cu12 12.5.82\n",
            "    Uninstalling nvidia-cuda-nvrtc-cu12-12.5.82:\n",
            "      Successfully uninstalled nvidia-cuda-nvrtc-cu12-12.5.82\n",
            "  Attempting uninstall: nvidia-cuda-cupti-cu12\n",
            "    Found existing installation: nvidia-cuda-cupti-cu12 12.5.82\n",
            "    Uninstalling nvidia-cuda-cupti-cu12-12.5.82:\n",
            "      Successfully uninstalled nvidia-cuda-cupti-cu12-12.5.82\n",
            "  Attempting uninstall: nvidia-cublas-cu12\n",
            "    Found existing installation: nvidia-cublas-cu12 12.5.3.2\n",
            "    Uninstalling nvidia-cublas-cu12-12.5.3.2:\n",
            "      Successfully uninstalled nvidia-cublas-cu12-12.5.3.2\n",
            "  Attempting uninstall: nvidia-cusparse-cu12\n",
            "    Found existing installation: nvidia-cusparse-cu12 12.5.1.3\n",
            "    Uninstalling nvidia-cusparse-cu12-12.5.1.3:\n",
            "      Successfully uninstalled nvidia-cusparse-cu12-12.5.1.3\n",
            "  Attempting uninstall: nvidia-cudnn-cu12\n",
            "    Found existing installation: nvidia-cudnn-cu12 9.3.0.75\n",
            "    Uninstalling nvidia-cudnn-cu12-9.3.0.75:\n",
            "      Successfully uninstalled nvidia-cudnn-cu12-9.3.0.75\n",
            "  Attempting uninstall: nvidia-cusolver-cu12\n",
            "    Found existing installation: nvidia-cusolver-cu12 11.6.3.83\n",
            "    Uninstalling nvidia-cusolver-cu12-11.6.3.83:\n",
            "      Successfully uninstalled nvidia-cusolver-cu12-11.6.3.83\n",
            "Successfully installed nvidia-cublas-cu12-12.4.5.8 nvidia-cuda-cupti-cu12-12.4.127 nvidia-cuda-nvrtc-cu12-12.4.127 nvidia-cuda-runtime-cu12-12.4.127 nvidia-cudnn-cu12-9.1.0.70 nvidia-cufft-cu12-11.2.1.3 nvidia-curand-cu12-10.3.5.147 nvidia-cusolver-cu12-11.6.1.9 nvidia-cusparse-cu12-12.3.1.170 nvidia-nvjitlink-cu12-12.4.127\n",
            "Requirement already satisfied: pandas in /usr/local/lib/python3.11/dist-packages (2.2.2)\n",
            "Requirement already satisfied: numpy>=1.23.2 in /usr/local/lib/python3.11/dist-packages (from pandas) (1.26.4)\n",
            "Requirement already satisfied: python-dateutil>=2.8.2 in /usr/local/lib/python3.11/dist-packages (from pandas) (2.8.2)\n",
            "Requirement already satisfied: pytz>=2020.1 in /usr/local/lib/python3.11/dist-packages (from pandas) (2025.1)\n",
            "Requirement already satisfied: tzdata>=2022.7 in /usr/local/lib/python3.11/dist-packages (from pandas) (2025.1)\n",
            "Requirement already satisfied: six>=1.5 in /usr/local/lib/python3.11/dist-packages (from python-dateutil>=2.8.2->pandas) (1.17.0)\n",
            "Requirement already satisfied: scikit-learn in /usr/local/lib/python3.11/dist-packages (1.6.1)\n",
            "Requirement already satisfied: numpy>=1.19.5 in /usr/local/lib/python3.11/dist-packages (from scikit-learn) (1.26.4)\n",
            "Requirement already satisfied: scipy>=1.6.0 in /usr/local/lib/python3.11/dist-packages (from scikit-learn) (1.13.1)\n",
            "Requirement already satisfied: joblib>=1.2.0 in /usr/local/lib/python3.11/dist-packages (from scikit-learn) (1.4.2)\n",
            "Requirement already satisfied: threadpoolctl>=3.1.0 in /usr/local/lib/python3.11/dist-packages (from scikit-learn) (3.5.0)\n",
            "\u001b[31mERROR: Could not find a version that satisfies the requirement transformer (from versions: none)\u001b[0m\u001b[31m\n",
            "\u001b[0m\u001b[31mERROR: No matching distribution found for transformer\u001b[0m\u001b[31m\n",
            "\u001b[0mCollecting datasets\n",
            "  Downloading datasets-3.2.0-py3-none-any.whl.metadata (20 kB)\n",
            "Requirement already satisfied: filelock in /usr/local/lib/python3.11/dist-packages (from datasets) (3.17.0)\n",
            "Requirement already satisfied: numpy>=1.17 in /usr/local/lib/python3.11/dist-packages (from datasets) (1.26.4)\n",
            "Requirement already satisfied: pyarrow>=15.0.0 in /usr/local/lib/python3.11/dist-packages (from datasets) (17.0.0)\n",
            "Collecting dill<0.3.9,>=0.3.0 (from datasets)\n",
            "  Downloading dill-0.3.8-py3-none-any.whl.metadata (10 kB)\n",
            "Requirement already satisfied: pandas in /usr/local/lib/python3.11/dist-packages (from datasets) (2.2.2)\n",
            "Requirement already satisfied: requests>=2.32.2 in /usr/local/lib/python3.11/dist-packages (from datasets) (2.32.3)\n",
            "Requirement already satisfied: tqdm>=4.66.3 in /usr/local/lib/python3.11/dist-packages (from datasets) (4.67.1)\n",
            "Collecting xxhash (from datasets)\n",
            "  Downloading xxhash-3.5.0-cp311-cp311-manylinux_2_17_x86_64.manylinux2014_x86_64.whl.metadata (12 kB)\n",
            "Collecting multiprocess<0.70.17 (from datasets)\n",
            "  Downloading multiprocess-0.70.16-py311-none-any.whl.metadata (7.2 kB)\n",
            "Collecting fsspec<=2024.9.0,>=2023.1.0 (from fsspec[http]<=2024.9.0,>=2023.1.0->datasets)\n",
            "  Downloading fsspec-2024.9.0-py3-none-any.whl.metadata (11 kB)\n",
            "Requirement already satisfied: aiohttp in /usr/local/lib/python3.11/dist-packages (from datasets) (3.11.12)\n",
            "Requirement already satisfied: huggingface-hub>=0.23.0 in /usr/local/lib/python3.11/dist-packages (from datasets) (0.28.1)\n",
            "Requirement already satisfied: packaging in /usr/local/lib/python3.11/dist-packages (from datasets) (24.2)\n",
            "Requirement already satisfied: pyyaml>=5.1 in /usr/local/lib/python3.11/dist-packages (from datasets) (6.0.2)\n",
            "Requirement already satisfied: aiohappyeyeballs>=2.3.0 in /usr/local/lib/python3.11/dist-packages (from aiohttp->datasets) (2.4.4)\n",
            "Requirement already satisfied: aiosignal>=1.1.2 in /usr/local/lib/python3.11/dist-packages (from aiohttp->datasets) (1.3.2)\n",
            "Requirement already satisfied: attrs>=17.3.0 in /usr/local/lib/python3.11/dist-packages (from aiohttp->datasets) (25.1.0)\n",
            "Requirement already satisfied: frozenlist>=1.1.1 in /usr/local/lib/python3.11/dist-packages (from aiohttp->datasets) (1.5.0)\n",
            "Requirement already satisfied: multidict<7.0,>=4.5 in /usr/local/lib/python3.11/dist-packages (from aiohttp->datasets) (6.1.0)\n",
            "Requirement already satisfied: propcache>=0.2.0 in /usr/local/lib/python3.11/dist-packages (from aiohttp->datasets) (0.2.1)\n",
            "Requirement already satisfied: yarl<2.0,>=1.17.0 in /usr/local/lib/python3.11/dist-packages (from aiohttp->datasets) (1.18.3)\n",
            "Requirement already satisfied: typing-extensions>=3.7.4.3 in /usr/local/lib/python3.11/dist-packages (from huggingface-hub>=0.23.0->datasets) (4.12.2)\n",
            "Requirement already satisfied: charset-normalizer<4,>=2 in /usr/local/lib/python3.11/dist-packages (from requests>=2.32.2->datasets) (3.4.1)\n",
            "Requirement already satisfied: idna<4,>=2.5 in /usr/local/lib/python3.11/dist-packages (from requests>=2.32.2->datasets) (3.10)\n",
            "Requirement already satisfied: urllib3<3,>=1.21.1 in /usr/local/lib/python3.11/dist-packages (from requests>=2.32.2->datasets) (2.3.0)\n",
            "Requirement already satisfied: certifi>=2017.4.17 in /usr/local/lib/python3.11/dist-packages (from requests>=2.32.2->datasets) (2025.1.31)\n",
            "Requirement already satisfied: python-dateutil>=2.8.2 in /usr/local/lib/python3.11/dist-packages (from pandas->datasets) (2.8.2)\n",
            "Requirement already satisfied: pytz>=2020.1 in /usr/local/lib/python3.11/dist-packages (from pandas->datasets) (2025.1)\n",
            "Requirement already satisfied: tzdata>=2022.7 in /usr/local/lib/python3.11/dist-packages (from pandas->datasets) (2025.1)\n",
            "Requirement already satisfied: six>=1.5 in /usr/local/lib/python3.11/dist-packages (from python-dateutil>=2.8.2->pandas->datasets) (1.17.0)\n",
            "Downloading datasets-3.2.0-py3-none-any.whl (480 kB)\n",
            "\u001b[2K   \u001b[90m━━━━━━━━━━━━━━━━━━━━━━━━━━━━━━━━━━━━━━━━\u001b[0m \u001b[32m480.6/480.6 kB\u001b[0m \u001b[31m30.1 MB/s\u001b[0m eta \u001b[36m0:00:00\u001b[0m\n",
            "\u001b[?25hDownloading dill-0.3.8-py3-none-any.whl (116 kB)\n",
            "\u001b[2K   \u001b[90m━━━━━━━━━━━━━━━━━━━━━━━━━━━━━━━━━━━━━━━━\u001b[0m \u001b[32m116.3/116.3 kB\u001b[0m \u001b[31m10.6 MB/s\u001b[0m eta \u001b[36m0:00:00\u001b[0m\n",
            "\u001b[?25hDownloading fsspec-2024.9.0-py3-none-any.whl (179 kB)\n",
            "\u001b[2K   \u001b[90m━━━━━━━━━━━━━━━━━━━━━━━━━━━━━━━━━━━━━━━━\u001b[0m \u001b[32m179.3/179.3 kB\u001b[0m \u001b[31m16.3 MB/s\u001b[0m eta \u001b[36m0:00:00\u001b[0m\n",
            "\u001b[?25hDownloading multiprocess-0.70.16-py311-none-any.whl (143 kB)\n",
            "\u001b[2K   \u001b[90m━━━━━━━━━━━━━━━━━━━━━━━━━━━━━━━━━━━━━━━━\u001b[0m \u001b[32m143.5/143.5 kB\u001b[0m \u001b[31m12.1 MB/s\u001b[0m eta \u001b[36m0:00:00\u001b[0m\n",
            "\u001b[?25hDownloading xxhash-3.5.0-cp311-cp311-manylinux_2_17_x86_64.manylinux2014_x86_64.whl (194 kB)\n",
            "\u001b[2K   \u001b[90m━━━━━━━━━━━━━━━━━━━━━━━━━━━━━━━━━━━━━━━━\u001b[0m \u001b[32m194.8/194.8 kB\u001b[0m \u001b[31m15.4 MB/s\u001b[0m eta \u001b[36m0:00:00\u001b[0m\n",
            "\u001b[?25hInstalling collected packages: xxhash, fsspec, dill, multiprocess, datasets\n",
            "  Attempting uninstall: fsspec\n",
            "    Found existing installation: fsspec 2024.10.0\n",
            "    Uninstalling fsspec-2024.10.0:\n",
            "      Successfully uninstalled fsspec-2024.10.0\n",
            "\u001b[31mERROR: pip's dependency resolver does not currently take into account all the packages that are installed. This behaviour is the source of the following dependency conflicts.\n",
            "gcsfs 2024.10.0 requires fsspec==2024.10.0, but you have fsspec 2024.9.0 which is incompatible.\u001b[0m\u001b[31m\n",
            "\u001b[0mSuccessfully installed datasets-3.2.0 dill-0.3.8 fsspec-2024.9.0 multiprocess-0.70.16 xxhash-3.5.0\n",
            "Collecting accelerate==0.26.0\n",
            "  Downloading accelerate-0.26.0-py3-none-any.whl.metadata (18 kB)\n",
            "Requirement already satisfied: numpy>=1.17 in /usr/local/lib/python3.11/dist-packages (from accelerate==0.26.0) (1.26.4)\n",
            "Requirement already satisfied: packaging>=20.0 in /usr/local/lib/python3.11/dist-packages (from accelerate==0.26.0) (24.2)\n",
            "Requirement already satisfied: psutil in /usr/local/lib/python3.11/dist-packages (from accelerate==0.26.0) (5.9.5)\n",
            "Requirement already satisfied: pyyaml in /usr/local/lib/python3.11/dist-packages (from accelerate==0.26.0) (6.0.2)\n",
            "Requirement already satisfied: torch>=1.10.0 in /usr/local/lib/python3.11/dist-packages (from accelerate==0.26.0) (2.5.1+cu124)\n",
            "Requirement already satisfied: huggingface-hub in /usr/local/lib/python3.11/dist-packages (from accelerate==0.26.0) (0.28.1)\n",
            "Requirement already satisfied: safetensors>=0.3.1 in /usr/local/lib/python3.11/dist-packages (from accelerate==0.26.0) (0.5.2)\n",
            "Requirement already satisfied: filelock in /usr/local/lib/python3.11/dist-packages (from torch>=1.10.0->accelerate==0.26.0) (3.17.0)\n",
            "Requirement already satisfied: typing-extensions>=4.8.0 in /usr/local/lib/python3.11/dist-packages (from torch>=1.10.0->accelerate==0.26.0) (4.12.2)\n",
            "Requirement already satisfied: networkx in /usr/local/lib/python3.11/dist-packages (from torch>=1.10.0->accelerate==0.26.0) (3.4.2)\n",
            "Requirement already satisfied: jinja2 in /usr/local/lib/python3.11/dist-packages (from torch>=1.10.0->accelerate==0.26.0) (3.1.5)\n",
            "Requirement already satisfied: fsspec in /usr/local/lib/python3.11/dist-packages (from torch>=1.10.0->accelerate==0.26.0) (2024.9.0)\n",
            "Requirement already satisfied: nvidia-cuda-nvrtc-cu12==12.4.127 in /usr/local/lib/python3.11/dist-packages (from torch>=1.10.0->accelerate==0.26.0) (12.4.127)\n",
            "Requirement already satisfied: nvidia-cuda-runtime-cu12==12.4.127 in /usr/local/lib/python3.11/dist-packages (from torch>=1.10.0->accelerate==0.26.0) (12.4.127)\n",
            "Requirement already satisfied: nvidia-cuda-cupti-cu12==12.4.127 in /usr/local/lib/python3.11/dist-packages (from torch>=1.10.0->accelerate==0.26.0) (12.4.127)\n",
            "Requirement already satisfied: nvidia-cudnn-cu12==9.1.0.70 in /usr/local/lib/python3.11/dist-packages (from torch>=1.10.0->accelerate==0.26.0) (9.1.0.70)\n",
            "Requirement already satisfied: nvidia-cublas-cu12==12.4.5.8 in /usr/local/lib/python3.11/dist-packages (from torch>=1.10.0->accelerate==0.26.0) (12.4.5.8)\n",
            "Requirement already satisfied: nvidia-cufft-cu12==11.2.1.3 in /usr/local/lib/python3.11/dist-packages (from torch>=1.10.0->accelerate==0.26.0) (11.2.1.3)\n",
            "Requirement already satisfied: nvidia-curand-cu12==10.3.5.147 in /usr/local/lib/python3.11/dist-packages (from torch>=1.10.0->accelerate==0.26.0) (10.3.5.147)\n",
            "Requirement already satisfied: nvidia-cusolver-cu12==11.6.1.9 in /usr/local/lib/python3.11/dist-packages (from torch>=1.10.0->accelerate==0.26.0) (11.6.1.9)\n",
            "Requirement already satisfied: nvidia-cusparse-cu12==12.3.1.170 in /usr/local/lib/python3.11/dist-packages (from torch>=1.10.0->accelerate==0.26.0) (12.3.1.170)\n",
            "Requirement already satisfied: nvidia-nccl-cu12==2.21.5 in /usr/local/lib/python3.11/dist-packages (from torch>=1.10.0->accelerate==0.26.0) (2.21.5)\n",
            "Requirement already satisfied: nvidia-nvtx-cu12==12.4.127 in /usr/local/lib/python3.11/dist-packages (from torch>=1.10.0->accelerate==0.26.0) (12.4.127)\n",
            "Requirement already satisfied: nvidia-nvjitlink-cu12==12.4.127 in /usr/local/lib/python3.11/dist-packages (from torch>=1.10.0->accelerate==0.26.0) (12.4.127)\n",
            "Requirement already satisfied: triton==3.1.0 in /usr/local/lib/python3.11/dist-packages (from torch>=1.10.0->accelerate==0.26.0) (3.1.0)\n",
            "Requirement already satisfied: sympy==1.13.1 in /usr/local/lib/python3.11/dist-packages (from torch>=1.10.0->accelerate==0.26.0) (1.13.1)\n",
            "Requirement already satisfied: mpmath<1.4,>=1.1.0 in /usr/local/lib/python3.11/dist-packages (from sympy==1.13.1->torch>=1.10.0->accelerate==0.26.0) (1.3.0)\n",
            "Requirement already satisfied: requests in /usr/local/lib/python3.11/dist-packages (from huggingface-hub->accelerate==0.26.0) (2.32.3)\n",
            "Requirement already satisfied: tqdm>=4.42.1 in /usr/local/lib/python3.11/dist-packages (from huggingface-hub->accelerate==0.26.0) (4.67.1)\n",
            "Requirement already satisfied: MarkupSafe>=2.0 in /usr/local/lib/python3.11/dist-packages (from jinja2->torch>=1.10.0->accelerate==0.26.0) (3.0.2)\n",
            "Requirement already satisfied: charset-normalizer<4,>=2 in /usr/local/lib/python3.11/dist-packages (from requests->huggingface-hub->accelerate==0.26.0) (3.4.1)\n",
            "Requirement already satisfied: idna<4,>=2.5 in /usr/local/lib/python3.11/dist-packages (from requests->huggingface-hub->accelerate==0.26.0) (3.10)\n",
            "Requirement already satisfied: urllib3<3,>=1.21.1 in /usr/local/lib/python3.11/dist-packages (from requests->huggingface-hub->accelerate==0.26.0) (2.3.0)\n",
            "Requirement already satisfied: certifi>=2017.4.17 in /usr/local/lib/python3.11/dist-packages (from requests->huggingface-hub->accelerate==0.26.0) (2025.1.31)\n",
            "Downloading accelerate-0.26.0-py3-none-any.whl (270 kB)\n",
            "\u001b[2K   \u001b[90m━━━━━━━━━━━━━━━━━━━━━━━━━━━━━━━━━━━━━━━━\u001b[0m \u001b[32m270.7/270.7 kB\u001b[0m \u001b[31m20.2 MB/s\u001b[0m eta \u001b[36m0:00:00\u001b[0m\n",
            "\u001b[?25hInstalling collected packages: accelerate\n",
            "  Attempting uninstall: accelerate\n",
            "    Found existing installation: accelerate 1.3.0\n",
            "    Uninstalling accelerate-1.3.0:\n",
            "      Successfully uninstalled accelerate-1.3.0\n",
            "Successfully installed accelerate-0.26.0\n"
          ]
        }
      ],
      "source": [
        "!pip install gensim fasttext\n",
        "!pip install python==3.8\n",
        "!pip install torch\n",
        "!pip install pandas\n",
        "!pip install scikit-learn\n",
        "!pip install transformer\n",
        "!pip install datasets\n",
        "!pip install accelerate==0.26.0"
      ]
    },
    {
      "cell_type": "code",
      "execution_count": null,
      "metadata": {
        "colab": {
          "base_uri": "https://localhost:8080/"
        },
        "id": "MC8SaLUUQTVW",
        "outputId": "b95d9d6a-85d8-4efb-eb4d-3a84bab2821d"
      },
      "outputs": [
        {
          "name": "stdout",
          "output_type": "stream",
          "text": [
            "Archive:  TP_ISD2020.zip\n",
            "   creating: data/QUAERO_FrenchMed/\n",
            "   creating: data/QUAERO_FrenchMed/EMEA/\n",
            "  inflating: data/QUAERO_FrenchMed/EMEA/EMEAdev_layer1_ID.conll  \n",
            "  inflating: data/QUAERO_FrenchMed/EMEA/EMEAtest_layer1_ID.conll  \n",
            "  inflating: data/QUAERO_FrenchMed/EMEA/EMEAtrain_layer1_ID.conll  \n",
            "   creating: data/QUAERO_FrenchMed/MEDLINE/\n",
            "  inflating: data/QUAERO_FrenchMed/MEDLINE/MEDLINEdev_layer1_ID.conll  \n",
            "  inflating: data/QUAERO_FrenchMed/MEDLINE/MEDLINEtest_layer1_ID.conll  \n",
            "  inflating: data/QUAERO_FrenchMed/MEDLINE/MEDLINEtrain_layer1_ID.conll  \n",
            "  inflating: data/QUAERO_FrenchMed/MEDLINE_FR_tok.ospl  \n",
            "  inflating: data/QUAERO_FrenchMed/QUAERO_FrenchMed_traindev.ospl  \n",
            "   creating: data/QUAERO_FrenchPress/\n",
            "  inflating: data/QUAERO_FrenchPress/QUAERO_FrenchPress_traindev.ospl  \n",
            "  inflating: data/QUAERO_FrenchPress/fra4_ID.dev  \n",
            "  inflating: data/QUAERO_FrenchPress/fra4_ID.test  \n",
            "  inflating: data/QUAERO_FrenchPress/fra4_ID.train  \n",
            "  inflating: data/README             \n",
            "Archive:  scripts.zip\n",
            "   creating: scripts/\n",
            "  inflating: scripts/transformers_classification.py  \n",
            "  inflating: scripts/requirements.txt  \n",
            "  inflating: __MACOSX/scripts/._requirements.txt  \n",
            "  inflating: scripts/cnn_classification.py  \n",
            "  inflating: __MACOSX/scripts/._cnn_classification.py  \n",
            "  inflating: scripts/README.md       \n",
            "  inflating: __MACOSX/scripts/._README.md  \n"
          ]
        }
      ],
      "source": [
        "! unzip TP_ISD2020.zip -d data\n",
        "# ! unzip scripts.zip\n",
        "# ! rm -r __MACOSX/"
      ]
    },
    {
      "cell_type": "code",
      "execution_count": 5,
      "metadata": {
        "id": "L_-W2jttlnCE"
      },
      "outputs": [],
      "source": [
        "def load_corpus(filepath):\n",
        "    with open(filepath, 'r', encoding='utf-8') as f:\n",
        "        corpus = [line.strip().split() for line in f]\n",
        "    return corpus\n",
        "\n",
        "# Chemins des fichiers\n",
        "medical_corpus_path = \"data/QUAERO_FrenchMed/QUAERO_FrenchMed_traindev.ospl\"\n",
        "press_corpus_path = \"data/QUAERO_FrenchPress/QUAERO_FrenchPress_traindev.ospl\"\n",
        "\n",
        "# Charger les corpus\n",
        "medical_corpus = load_corpus(medical_corpus_path)\n",
        "press_corpus = load_corpus(press_corpus_path)\n",
        "\n",
        "candidate_words = [\"patient\", \"traitement\", \"maladie\", \"solution\", \"jaune\"]"
      ]
    },
    {
      "cell_type": "code",
      "execution_count": 6,
      "metadata": {
        "id": "MZNUSV6Mlzxz"
      },
      "outputs": [],
      "source": [
        "from gensim.models import Word2Vec\n",
        "import fasttext\n",
        "import fasttext.util\n",
        "from scipy.spatial.distance import cosine\n",
        "\n",
        "def train_word2vec(corpus, sg, save_path, epochs=5):\n",
        "    # Entraîner le modèle\n",
        "    model = Word2Vec(\n",
        "        sentences=corpus,\n",
        "        vector_size=100,  # Taille des vecteurs\n",
        "        window=5,         # Taille du contexte\n",
        "        min_count=1,      # Fréquence minimale des mots\n",
        "        sg=sg,            # 0 = CBOW, 1 = Skipgram\n",
        "        workers=4,         # Nombre de threads\n",
        "        epochs=epochs\n",
        "    )\n",
        "    # Sauvegarder le modèle\n",
        "    model.save('model/' + save_path)\n",
        "    print(f\"Modèle Word2Vec sauvegardé dans {save_path}\")\n",
        "\n",
        "def train_fasttext(corpus_path, save_path, epochs=5):\n",
        "    # Entraîner le modèle FastText (CBOW)\n",
        "    model = fasttext.train_unsupervised(\n",
        "        input=corpus_path,\n",
        "        model='cbow',  # CBOW\n",
        "        dim=100,       # Taille des vecteurs\n",
        "        minCount=1,     # Fréquence minimale des mots\n",
        "        epoch=epochs\n",
        "    )\n",
        "    # Sauvegarder le modèle\n",
        "    model.save_model('model/' + save_path)\n",
        "    print(f\"Modèle FastText sauvegardé dans {save_path}\")\n",
        "\n",
        "def gensim_most_similar(model, word, topn=10):\n",
        "    \"\"\"\n",
        "    Trouve les mots les plus proches d'un mot donné avec Gensim.\n",
        "    :param model: Modèle Word2Vec ou FastText\n",
        "    :param word: Mot de départ\n",
        "    :param topn: Nombre de mots similaires à retourner\n",
        "    \"\"\"\n",
        "    try:\n",
        "        return model.wv.most_similar(word, topn=topn)\n",
        "    except KeyError:\n",
        "        return f\"Le mot '{word}' n'est pas dans le vocabulaire du modèle.\"\n",
        "\n",
        "def scipy_most_similar(model, word, topn=10):\n",
        "    \"\"\"\n",
        "    Trouve les mots les plus proches d'un mot donné avec scipy.\n",
        "    :param model: Modèle Word2Vec ou FastText\n",
        "    :param word: Mot de départ\n",
        "    :param topn: Nombre de mots similaires à retourner\n",
        "    \"\"\"\n",
        "    try:\n",
        "        word_vector = model.wv[word]\n",
        "    except KeyError:\n",
        "        return f\"Le mot '{word}' n'est pas dans le vocabulaire du modèle.\"\n",
        "\n",
        "    # Calculer la similarité cosinus avec tous les mots du vocabulaire\n",
        "    similarities = []\n",
        "    for other_word in model.wv.index_to_key:\n",
        "        similarity = 1 - cosine(word_vector, model.wv[other_word])\n",
        "        similarities.append((other_word, similarity))\n",
        "\n",
        "    # Trier par similarité décroissante et retourner les topn\n",
        "    return sorted(similarities, key=lambda x: x[1], reverse=True)[:topn]\n"
      ]
    },
    {
      "cell_type": "code",
      "execution_count": 8,
      "metadata": {
        "colab": {
          "base_uri": "https://localhost:8080/"
        },
        "id": "G0mOz8iPaR7a",
        "outputId": "c4a465f2-f4e5-4a5b-a28b-67b927be8035"
      },
      "outputs": [
        {
          "name": "stdout",
          "output_type": "stream",
          "text": [
            "Modèle Word2Vec sauvegardé dans word2vec_cbow_med_train1.model\n",
            "Modèle Word2Vec sauvegardé dans word2vec_cbow_med_train5.model\n",
            "Modèle Word2Vec sauvegardé dans word2vec_cbow_med_train20.model\n",
            "Modèle Word2Vec sauvegardé dans word2vec_cbow_med_train100.model\n"
          ]
        }
      ],
      "source": [
        "# Entraîner et sauvegarder les modèles Word2Vec pour choisir le meilleur nombre d'epoch\n",
        "train_word2vec(medical_corpus, sg=0, save_path=\"word2vec_cbow_med_train1.model\", epochs=1)\n",
        "train_word2vec(medical_corpus, sg=0, save_path=\"word2vec_cbow_med_train5.model\", epochs=5)\n",
        "train_word2vec(medical_corpus, sg=0, save_path=\"word2vec_cbow_med_train20.model\", epochs=20)\n",
        "train_word2vec(medical_corpus, sg=0, save_path=\"word2vec_cbow_med_train100.model\", epochs=100)"
      ]
    },
    {
      "cell_type": "code",
      "execution_count": 9,
      "metadata": {
        "colab": {
          "base_uri": "https://localhost:8080/"
        },
        "id": "XRz1vG9fbFox",
        "outputId": "a6a98b4e-c62e-4a4e-bb55-bd580c9aea3b"
      },
      "outputs": [
        {
          "name": "stdout",
          "output_type": "stream",
          "text": [
            "\n",
            "Résultats pour le mot 'patient' :\n",
            "Word2Vec CBOW MED(1): [('Eli', 0.7689204812049866), (\"'\", 0.7671542763710022), ('.', 0.7667074799537659), ('La', 0.7638227939605713), ('pendant', 0.7633992433547974), ('le', 0.7623304128646851), ('une', 0.7620331048965454), ('l', 0.7613641619682312), ('du', 0.7605946063995361), ('les', 0.7605112195014954)]\n",
            "Word2Vec CBOW MED(5): [('Le', 0.9994989037513733), ('le', 0.9994930028915405), ('La', 0.9994909763336182), ('les', 0.9994809031486511), ('par', 0.999480128288269), ('du', 0.9994780421257019), ('des', 0.9994730949401855), ('en', 0.9994546175003052), ('avec', 0.9994523525238037), ('après', 0.9994502663612366)]\n",
            "Word2Vec CBOW MED(20): [('qui', 0.9853318929672241), ('délai', 0.9794530868530273), ('carte', 0.9787099361419678), ('médicament', 0.9779112339019775), ('devra', 0.9772442579269409), ('temps', 0.9770488739013672), ('lié', 0.9753610491752625), ('agir', 0.9747278094291687), ('risque', 0.9735011458396912), ('ils', 0.97335284948349)]\n",
            "Word2Vec CBOW MED(100): [('carte', 0.6314699053764343), ('risque', 0.610974907875061), ('aptitude', 0.5892175436019897), ('Tysabri', 0.5626007318496704), ('LEMP', 0.5585194826126099), ('alerte', 0.5454261302947998), ('survenir', 0.5451653003692627), ('médicament', 0.5339292287826538), ('montrer', 0.5238161087036133), ('lorsqu', 0.518097460269928)]\n",
            "\n",
            "Résultats pour le mot 'traitement' :\n",
            "Word2Vec CBOW MED(1): [('de', 0.9913744926452637), (',', 0.9913451075553894), ('mg', 0.9909716844558716), ('’', 0.9909660220146179), ('des', 0.9907492399215698), ('en', 0.9905388951301575), ('et', 0.9903689622879028), ('à', 0.9900925755500793), ('la', 0.9899656772613525), (\"'\", 0.9898766279220581)]\n",
            "Word2Vec CBOW MED(5): [('que', 0.9996575713157654), ('des', 0.9996402859687805), ('Le', 0.9996288418769836), ('par', 0.9996237754821777), ('est', 0.9996108412742615), ('en', 0.9995880126953125), ('le', 0.9995777010917664), ('avec', 0.9995701313018799), ('les', 0.9995597004890442), ('dans', 0.999559223651886)]\n",
            "Word2Vec CBOW MED(20): [('Parkinson', 0.934833288192749), ('matériel', 0.9134126305580139), ('arrêt', 0.9099505543708801), ('VIH', 0.9086222052574158), ('débuter', 0.9083789587020874), ('début', 0.9055424332618713), ('prise', 0.9041328430175781), ('bronchoscopique', 0.8996429443359375), ('par', 0.8967003226280212), ('opportuniste', 0.8965957760810852)]\n",
            "Word2Vec CBOW MED(100): [('natalizumab', 0.510883092880249), ('traités', 0.50751131772995), ('médecin', 0.4997027814388275), ('diagnostic', 0.4930766820907593), ('VIH', 0.48413047194480896), ('SEP', 0.4751010537147522), ('délai', 0.457773357629776), ('Tasmar', 0.4506857693195343), ('recommandé', 0.4471122920513153), ('conséquent', 0.446241557598114)]\n",
            "\n",
            "Résultats pour le mot 'maladie' :\n",
            "Word2Vec CBOW MED(1): [(':', 0.9510101079940796), ('-', 0.9508847594261169), ('/', 0.9501036405563354), ('vous', 0.9500376582145691), ('une', 0.9496012926101685), ('à', 0.9495581388473511), ('que', 0.9493067860603333), ('avec', 0.9491133689880371), ('.', 0.9483761191368103), (')', 0.948093831539154)]\n",
            "Word2Vec CBOW MED(5): [('avec', 0.9995720386505127), ('à', 0.9995502233505249), ('du', 0.9995399713516235), ('et', 0.9995371103286743), ('une', 0.9995343089103699), ('en', 0.9995331168174744), ('la', 0.9995226263999939), ('-', 0.9995163083076477), ('des', 0.9995151162147522), ('de', 0.9995136857032776)]\n",
            "Word2Vec CBOW MED(20): [('infection', 0.9764331579208374), ('charge', 0.9713566303253174), ('durée', 0.9694559574127197), ('grossesse', 0.9631531834602356), ('prise', 0.9593245983123779), ('interféron', 0.954963743686676), ('fonction', 0.9547742605209351), ('Crohn', 0.954400897026062), ('antirétroviraux', 0.9520581960678101), ('attention', 0.9515848159790039)]\n",
            "Word2Vec CBOW MED(100): [('Parkinson', 0.725223183631897), ('Recklinghausen', 0.6146523356437683), ('liée', 0.6099118590354919), ('SEP', 0.5880849957466125), ('Basedow', 0.5876327157020569), ('VIH', 0.5651533007621765), ('infection', 0.5603724122047424), ('Crohn', 0.5545458793640137), ('avancée', 0.5517966747283936), ('avancé', 0.5504788160324097)]\n",
            "\n",
            "Résultats pour le mot 'solution' :\n",
            "Word2Vec CBOW MED(1): [('la', 0.9187816977500916), ('médecin', 0.9183162450790405), ('’', 0.9170056581497192), ('/', 0.9168359041213989), ('ou', 0.9168087244033813), ('de', 0.9167783260345459), ('le', 0.9157408475875854), ('avec', 0.9154791831970215), ('-', 0.9153304696083069), ('L', 0.9146424531936646)]\n",
            "Word2Vec CBOW MED(5): [('pour', 0.9991146326065063), ('/', 0.9990900754928589), (')', 0.9990364909172058), ('perfusion', 0.9990261793136597), ('2', 0.9990254640579224), ('flacon', 0.9990246295928955), ('contient', 0.9990217089653015), ('1', 0.9990177154541016), ('(', 0.9990163445472717), ('ou', 0.9989079236984253)]\n",
            "Word2Vec CBOW MED(20): [('diluer', 0.9829340577125549), ('buvable', 0.9611908197402954), ('poudre', 0.9599123597145081), ('300', 0.9488078355789185), ('flacon', 0.9422072768211365), ('réchauffer', 0.9412526488304138), ('injectable', 0.9394874572753906), ('comprimé', 0.9362024068832397), ('bensérazide', 0.9350726008415222), ('contient', 0.9311100840568542)]\n",
            "Word2Vec CBOW MED(100): [('injectable', 0.7478188872337341), ('ml', 0.7378615736961365), ('préparations', 0.7187533378601074), ('préparation', 0.7069618701934814), ('eau', 0.6994322538375854), ('incolore', 0.6969196200370789), ('limpide', 0.6822481751441956), ('buvable', 0.6812357306480408), ('perfusion', 0.6797539591789246), ('contient', 0.6663885712623596)]\n",
            "\n",
            "Résultats pour le mot 'jaune' :\n",
            "Word2Vec CBOW MED(1): [('juger', 0.3648706376552582), ('trimoxazole', 0.3617050349712372), ('humérale', 0.3452621102333069), ('universitarisation', 0.33904793858528137), ('urticaire', 0.3387758731842041), ('dénommés', 0.33767372369766235), ('Des', 0.3374932110309601), ('fatigue', 0.33054667711257935), ('g', 0.3301888108253479), ('hypertrophie', 0.3298243284225464)]\n",
            "Word2Vec CBOW MED(5): [('(', 0.9976116418838501), ('Un', 0.9975555539131165), ('sont', 0.9974523782730103), ('en', 0.9974170923233032), ('.', 0.9973855018615723), ('une', 0.9973848462104797), (',', 0.9973846673965454), ('dose', 0.9973820447921753), ('ou', 0.9973798394203186), ('30', 0.9973766207695007)]\n",
            "Word2Vec CBOW MED(20): [('COMPRIMES', 0.9948984384536743), ('PELLICULES', 0.9938866496086121), ('96', 0.9938438534736633), ('caoutchouc', 0.9934648871421814), ('x', 0.9931646585464478), ('Polysorbate', 0.9929256439208984), ('titane', 0.9927831888198853), ('}', 0.992626965045929), ('X', 0.9921231269836426), ('36', 0.9921096563339233)]\n",
            "Word2Vec CBOW MED(100): [('pâle', 0.8635953068733215), ('flavicollis', 0.7492523193359375), ('Oxyde', 0.7414106726646423), ('fer', 0.7267228960990906), ('Calotermes', 0.7237449288368225), ('Polysorbate', 0.7194839715957642), ('Fabr', 0.7180436253547668), ('titane', 0.7094669342041016), ('172', 0.7003318667411804), ('Dioxyde', 0.6977936625480652)]\n"
          ]
        }
      ],
      "source": [
        "word2vec_cbow_med_train1 = Word2Vec.load(\"model/word2vec_cbow_med_train1.model\")\n",
        "word2vec_cbow_med_train5 = Word2Vec.load(\"model/word2vec_cbow_med_train5.model\")\n",
        "word2vec_cbow_med_train20 = Word2Vec.load(\"model/word2vec_cbow_med_train20.model\")\n",
        "word2vec_cbow_med_train100 = Word2Vec.load(\"model/word2vec_cbow_med_train100.model\")\n",
        "\n",
        "for word in candidate_words:\n",
        "    print(f\"\\nRésultats pour le mot '{word}' :\")\n",
        "    print(\"Word2Vec CBOW MED(1):\", gensim_most_similar(word2vec_cbow_med_train1, word))\n",
        "    print(\"Word2Vec CBOW MED(5):\", gensim_most_similar(word2vec_cbow_med_train5, word))\n",
        "    print(\"Word2Vec CBOW MED(20):\", gensim_most_similar(word2vec_cbow_med_train20, word))\n",
        "    print(\"Word2Vec CBOW MED(100):\", gensim_most_similar(word2vec_cbow_med_train100, word))\n",
        "\n",
        "# 100 epochs semble des résultats légèrement meilleurs que 20 epochs mais\n",
        "# pour réduire le temps de calcul je vais utiliser 20 epochs."
      ]
    },
    {
      "cell_type": "code",
      "execution_count": 10,
      "metadata": {
        "colab": {
          "base_uri": "https://localhost:8080/"
        },
        "id": "KhPhV8qifTA5",
        "outputId": "a84b388c-01a4-4704-b640-015480fd8906"
      },
      "outputs": [
        {
          "name": "stdout",
          "output_type": "stream",
          "text": [
            "Modèle FastText sauvegardé dans fasttext_cbow_med_1.bin\n",
            "Modèle FastText sauvegardé dans fasttext_cbow_med_5.bin\n",
            "Modèle FastText sauvegardé dans fasttext_cbow_med_20.bin\n",
            "Modèle FastText sauvegardé dans fasttext_cbow_med_100.bin\n"
          ]
        }
      ],
      "source": [
        "# Entraîner et sauvegarder les modèles FastText\n",
        "train_fasttext(medical_corpus_path, \"fasttext_cbow_med_1.bin\", epochs=1)\n",
        "train_fasttext(medical_corpus_path, \"fasttext_cbow_med_5.bin\", epochs=5)\n",
        "train_fasttext(medical_corpus_path, \"fasttext_cbow_med_20.bin\", epochs=20)\n",
        "train_fasttext(medical_corpus_path, \"fasttext_cbow_med_100.bin\", epochs=100)"
      ]
    },
    {
      "cell_type": "code",
      "execution_count": 11,
      "metadata": {
        "colab": {
          "base_uri": "https://localhost:8080/"
        },
        "id": "XI538th4f5lu",
        "outputId": "ea0b8b65-c2dc-4562-da8c-abf962d0c5a6"
      },
      "outputs": [
        {
          "name": "stdout",
          "output_type": "stream",
          "text": [
            "\n",
            "Résultats pour le mot 'patient' :\n",
            "[(0.9402261972427368, 'patiente'), (0.9213680028915405, 'patients'), (0.8477667570114136, 'entrainement'), (0.8382683992385864, 'appartient'), (0.8129658102989197, 'département'), (0.8122319579124451, 'Traitements'), (0.8105729222297668, 'inventaires'), (0.8060504794120789, 'pigmentaires'), (0.8058280944824219, 'conscient'), (0.8043614029884338, 'Traitement')]\n",
            "[(1.000000238418579, 'ventriculaires'), (1.000000238418579, 'avacement'), (1.000000238418579, 'cohérent'), (1.000000238418579, 'isolement'), (1.0000001192092896, 'comment'), (1.0000001192092896, 'retentissement'), (1.0000001192092896, 'spécifiquement'), (1.0000001192092896, 'Allaitement'), (1.0, 'intravasculaires'), (1.0, 'paramétriales')]\n",
            "[(0.9993148446083069, 'entrainement'), (0.999184787273407, 'Accompagnement'), (0.9991169571876526, 'récemment'), (0.9990652799606323, 'comportement'), (0.9990555047988892, 'soulagement'), (0.9990339875221252, 'glissement'), (0.9990159869194031, 'socialement'), (0.9990136027336121, 'extrêmement'), (0.999006986618042, 'enseignement'), (0.9989933967590332, 'Envahissement')]\n",
            "[(0.9460815191268921, 'Patient'), (0.8628889322280884, 'parvient'), (0.841888964176178, 'maintient'), (0.8172577619552612, 'recevaient'), (0.8101400136947632, 'soient'), (0.8082650303840637, 'Contient'), (0.8056405782699585, 'avaient'), (0.792616069316864, 'gradient'), (0.7910746932029724, 'aient'), (0.7869144082069397, 'excipient')]\n",
            "\n",
            "Résultats pour le mot 'traitement' :\n",
            "[(0.9432705640792847, 'concentration'), (0.940919816493988, 'avancement'), (0.9340120553970337, 'concentrations'), (0.9340094923973083, 'traitements'), (0.9338370561599731, 'Département'), (0.9311373829841614, 'ajustement'), (0.9303413033485413, 'Ajustements'), (0.9295790791511536, 'département'), (0.9292426109313965, 'principalement'), (0.9290932416915894, 'alimentation')]\n",
            "[(1.000000238418579, 'tentative'), (1.000000238418579, 'physiquement'), (1.000000238418579, 'typiquement'), (1.000000238418579, 'étroitement'), (1.000000238418579, 'seulement'), (1.000000238418579, 'paralysies'), (1.000000238418579, 'envahissement'), (1.000000238418579, 'spécifiquement'), (1.0000001192092896, 'intravasculaires'), (1.0000001192092896, 'orthodontiques')]\n",
            "[(0.9998486042022705, 'Taaitement'), (0.9997872710227966, 'lentement'), (0.9997504949569702, 'règlement'), (0.999605655670166, 'évitement'), (0.9995622634887695, 'jugement'), (0.9995324015617371, 'clignement'), (0.9994301795959473, 'Equipement'), (0.9992314577102661, 'Département'), (0.9991592764854431, 'Traitement'), (0.9990959763526917, 'avortement')]\n",
            "[(0.9268695116043091, 'Traitement'), (0.9160038828849792, 'Taaitement'), (0.8919278979301453, 'traitment'), (0.8851898312568665, 'Allaitement'), (0.8725644946098328, 'allaitement'), (0.8660028576850891, 'étroitement'), (0.8610367774963379, 'évitement'), (0.7995696067810059, 'traitements'), (0.7964652180671692, 'recrutement'), (0.7931550741195679, 'correctement')]\n",
            "\n",
            "Résultats pour le mot 'maladie' :\n",
            "[(0.6151546239852905, 'mouvements'), (0.5804592967033386, 'mouvement'), (0.5628031492233276, 'prélèvements'), (0.548011302947998, 'préopératoires'), (0.5417570471763611, 'malades'), (0.538224458694458, 'mammaire'), (0.5372623205184937, 'inadaptation'), (0.5353677272796631, 'confluente'), (0.5350805521011353, 'Mouvements'), (0.5340496897697449, 'proportionnellement')]\n",
            "[(1.0000001192092896, 'hydatique'), (1.0, 'sensilles'), (1.0, 'constrictive'), (1.0, 'individuellement'), (1.0, 'réaction'), (1.0, 'calcique'), (1.0, 'Traitement'), (0.9999999403953552, 'dentaire'), (0.9999999403953552, 'intravasculaires'), (0.9999999403953552, 'responsables')]\n",
            "[(0.9999539852142334, 'prothèse'), (0.9999330639839172, 'clairance'), (0.9998905062675476, 'Clairance'), (0.9998835325241089, 'caractérise'), (0.9998642802238464, 'France'), (0.9998407959938049, 'duc'), (0.9998228549957275, 'Séance'), (0.999811589717865, 'naissance'), (0.9998106956481934, 'Impact'), (0.9998105764389038, 'l')]\n",
            "[(0.875504732131958, 'Maladie'), (0.8150060176849365, 'malade'), (0.7823276519775391, 'maldi'), (0.7394304275512695, 'malgré'), (0.6884601712226868, 'maladies'), (0.6822478771209717, 'Parkinson'), (0.670083224773407, 'malin'), (0.6699748039245605, 'malaise'), (0.6580445170402527, 'maïs'), (0.6539781093597412, 'neurovessie')]\n",
            "\n",
            "Résultats pour le mot 'solution' :\n",
            "[(0.9461082220077515, 'solutions'), (0.9258965849876404, 'evolution'), (0.9248251914978027, 'Dissolution'), (0.9235997200012207, 'Solution'), (0.9156518578529358, 'contraception'), (0.9108018279075623, 'élévation'), (0.9054766297340393, 'congélation'), (0.9053195118904114, 'mutation'), (0.9046556353569031, 'fonctions'), (0.904255211353302, 'évolution')]\n",
            "[(1.0000004768371582, 'destruction'), (1.0000004768371582, 'conduction'), (1.0000004768371582, 'réaction'), (1.0000004768371582, 'Dissolution'), (1.0000003576278687, 'Évolutions'), (1.0000003576278687, 'Consommations'), (1.0000003576278687, 'inclusion'), (1.0000003576278687, 'vocalisation'), (1.0000003576278687, 'inhibition'), (1.000000238418579, 'Fécondation')]\n",
            "[(0.9990637898445129, 'Dissolution'), (0.9983086585998535, 'dilution'), (0.9982403516769409, 'évolution'), (0.9957440495491028, 'Substitution'), (0.9955114126205444, 'vision'), (0.9953293800354004, 'avion'), (0.9950135350227356, 'Réunion'), (0.9949881434440613, 'Lésion'), (0.9949617981910706, 'Pollution'), (0.9949517250061035, 'microdélétion')]\n",
            "[(0.9766571521759033, 'Dissolution'), (0.959429919719696, 'Solution'), (0.9484282732009888, 'dilution'), (0.9245313405990601, 'Pollution'), (0.9116870760917664, 'evolution'), (0.8951636552810669, 'Evolution'), (0.8766992092132568, 'déglutition'), (0.8644825220108032, 'microdélétion'), (0.8452258706092834, 'Substitution'), (0.8449791073799133, 'exécution')]\n",
            "\n",
            "Résultats pour le mot 'jaune' :\n",
            "[(0.5281142592430115, 'bicompartimental'), (0.5130085945129395, 'orientables'), (0.5074186325073242, 'vraiment'), (0.5024646520614624, 'dilution'), (0.5022581219673157, 'diagnostique'), (0.5012462139129639, 'diminution'), (0.49949705600738525, 'écoles'), (0.49880626797676086, 'proprement'), (0.4880368709564209, 'dilatation'), (0.486941933631897, 'diarrhéique')]\n",
            "[(0.9999996423721313, 'Allaitement'), (0.999999463558197, 'rapidement'), (0.999999463558197, 'prostatique'), (0.999999463558197, 'encéphalique'), (0.999999463558197, 'cependant'), (0.9999994039535522, 'conduction'), (0.9999994039535522, 'spécifiquement'), (0.9999994039535522, 'seront'), (0.9999994039535522, 'tuberculinique'), (0.9999994039535522, 'supplémentaires')]\n",
            "[(0.9998642206192017, 'Lamivudine'), (0.9997621774673462, 'lamivudine'), (0.9997319579124451, 'fluoxétine'), (0.9996812343597412, 'Fluoxétine'), (0.9996655583381653, 'Lepirudine'), (0.9995552897453308, 'hirudine'), (0.9995399713516235, 'polyéthylène'), (0.9995049834251404, 'Poudre'), (0.9994996786117554, 'Cour'), (0.9994937181472778, 'kilogramme')]\n",
            "[(0.7645581960678101, 'triacétine'), (0.7636348605155945, 'Triacétine'), (0.7602247595787048, 'routine'), (0.752162754535675, 'Fluoxétine'), (0.7429923415184021, 'hexane'), (0.7408133149147034, 'bobine'), (0.7351659536361694, 'psoralène'), (0.7342064380645752, 'navet'), (0.7341319918632507, 'gêne'), (0.7314918637275696, 'norfluoxétine')]\n"
          ]
        }
      ],
      "source": [
        "fasttext_cbow_med_1 = fasttext.load_model(\"model/fasttext_cbow_med_1.bin\")\n",
        "fasttext_cbow_med_5 = fasttext.load_model(\"model/fasttext_cbow_med_5.bin\")\n",
        "fasttext_cbow_med_20 = fasttext.load_model(\"model/fasttext_cbow_med_20.bin\")\n",
        "fasttext_cbow_med_100 = fasttext.load_model(\"model/fasttext_cbow_med_100.bin\")\n",
        "\n",
        "for word in candidate_words:\n",
        "    print(f\"\\nRésultats pour le mot '{word}' :\")\n",
        "    print(fasttext_cbow_med_1.get_nearest_neighbors(word))\n",
        "    print(fasttext_cbow_med_5.get_nearest_neighbors(word))\n",
        "    print(fasttext_cbow_med_20.get_nearest_neighbors(word))\n",
        "    print(fasttext_cbow_med_100.get_nearest_neighbors(word))\n",
        "\n",
        "# 10 epochs semble avoir les meilleurs resultats"
      ]
    },
    {
      "cell_type": "code",
      "execution_count": 12,
      "metadata": {
        "colab": {
          "base_uri": "https://localhost:8080/"
        },
        "id": "Y8uEcpRieS0_",
        "outputId": "5c154a92-1cde-4c52-9761-6cefa4a9c688"
      },
      "outputs": [
        {
          "name": "stdout",
          "output_type": "stream",
          "text": [
            "Modèle Word2Vec sauvegardé dans word2vec_cbow_med.model\n",
            "Modèle Word2Vec sauvegardé dans word2vec_skipgram_med.model\n",
            "Modèle Word2Vec sauvegardé dans word2vec_cbow_press.model\n",
            "Modèle Word2Vec sauvegardé dans word2vec_skipgram_press.model\n",
            "Modèle FastText sauvegardé dans fasttext_cbow_med.bin\n",
            "Modèle FastText sauvegardé dans fasttext_cbow_press.bin\n"
          ]
        }
      ],
      "source": [
        "# Entraîner et sauvegarder les modèles Word2Vec\n",
        "train_word2vec(medical_corpus, sg=0, save_path=\"word2vec_cbow_med.model\", epochs=20)\n",
        "train_word2vec(medical_corpus, sg=1, save_path=\"word2vec_skipgram_med.model\", epochs=20)\n",
        "train_word2vec(press_corpus, sg=0, save_path=\"word2vec_cbow_press.model\", epochs=20)\n",
        "train_word2vec(press_corpus, sg=1, save_path=\"word2vec_skipgram_press.model\", epochs=20)\n",
        "train_fasttext(medical_corpus_path, \"fasttext_cbow_med.bin\", epochs=10)\n",
        "train_fasttext(press_corpus_path, \"fasttext_cbow_press.bin\", epochs=10)"
      ]
    },
    {
      "cell_type": "code",
      "execution_count": 13,
      "metadata": {
        "colab": {
          "base_uri": "https://localhost:8080/"
        },
        "id": "eckM1l2cetkD",
        "outputId": "93f400be-6715-48cd-e935-b71f95a47398"
      },
      "outputs": [
        {
          "name": "stdout",
          "output_type": "stream",
          "text": [
            "\n",
            "Résultats pour le mot 'patient' :\n",
            "Word2Vec CBOW (medical): [('qui', 0.9789780974388123), ('délai', 0.9768372774124146), ('allaitement', 0.9753565788269043), ('risque', 0.9750105142593384), ('tant', 0.9746490716934204), ('arrêter', 0.9733835458755493), ('médicament', 0.973052978515625), ('devra', 0.9729708433151245), ('machines', 0.9724516868591309), ('carte', 0.9705780744552612)]\n",
            "Word2Vec Skipgram (medical): [('carte', 0.9145078063011169), ('aptitude', 0.8815526962280273), ('spéciale', 0.8805074095726013), ('aucun', 0.8788996338844299), ('examiner', 0.8781753778457642), ('présentent', 0.8779392242431641), ('alerte', 0.8778810501098633), ('avoir', 0.8735847473144531), ('Montrez', 0.8715653419494629), ('prescrit', 0.8668498396873474)]\n",
            "Word2Vec CBOW (non-medical): [('concessionnaire', 0.6445181965827942), ('costumé', 0.6205944418907166), ('morceau', 0.5985224843025208), ('troupeau', 0.593877375125885), ('1936', 0.5876890420913696), ('keuf', 0.5870494842529297), ('tranchant', 0.5865280032157898), ('inégalé', 0.5810671448707581), ('rusé', 0.5799055099487305), ('filou', 0.576128363609314)]\n",
            "Word2Vec Skipgram (non-medical): [('hospitalisé', 0.7218300104141235), ('livret', 0.7085073590278625), ('mollah', 0.7067965865135193), ('déguisé', 0.7015916109085083), ('compréhensible', 0.6957743763923645), ('humble', 0.691269040107727), ('résisterez', 0.6828432679176331), ('ci', 0.6806204319000244), ('réversion', 0.6802690029144287), ('complément', 0.6792787909507751)]\n",
            "FastText CBOW (medical): [(0.9999991655349731, 'Patient'), (0.999998927116394, 'étaient'), (0.999998927116394, 'recevaient'), (0.9999988675117493, 'avaient'), (0.9999987483024597, 'ajoutent'), (0.9999987483024597, 'figurent'), (0.9999987483024597, 'évident'), (0.9999986886978149, 'patiente'), (0.9999986886978149, 'excipient'), (0.9999986886978149, 'aient')]\n",
            "FastText CBOW (non-medical): [(0.9763959646224976, 'impatient'), (0.9638187289237976, 'patientent'), (0.9588624238967896, 'détient'), (0.9542364478111267, 'abstient'), (0.9438273310661316, 'obtient'), (0.9437859654426575, 'impatientent'), (0.943324625492096, 'quotient'), (0.940682590007782, 'initient'), (0.938299834728241, 'soutient'), (0.93700110912323, 'tient')]\n",
            "\n",
            "Résultats pour le mot 'traitement' :\n",
            "Word2Vec CBOW (medical): [('Parkinson', 0.9281914830207825), ('VIH', 0.9276049137115479), ('début', 0.9242717623710632), ('préalablement', 0.9181904792785645), ('arrêt', 0.9089962840080261), ('par', 0.9038317799568176), ('fonction', 0.902809202671051), ('cancer', 0.8996491432189941), ('prise', 0.8996472358703613), ('antirétroviraux', 0.8979961276054382)]\n",
            "Word2Vec Skipgram (medical): [('début', 0.7216426730155945), ('second', 0.7111859321594238), ('suivi', 0.7102016806602478), ('concomitant', 0.706634521484375), ('poursuite', 0.7028853893280029), ('premiers', 0.6988186240196228), ('opportuniste', 0.6984120011329651), ('contrôlée', 0.6962464451789856), ('antérieur', 0.6955744624137878), ('débuter', 0.6922737956047058)]\n",
            "Word2Vec CBOW (non-medical): [('coût', 0.6907455325126648), ('financement', 0.6649758219718933), ('système', 0.6633919477462769), ('logement', 0.6490097045898438), ('collectif', 0.645510733127594), ('renforcement', 0.637475311756134), ('transfert', 0.6277682781219482), ('programme', 0.6225696206092834), ('fonctionnement', 0.6220154762268066), ('contrat', 0.6172523498535156)]\n",
            "Word2Vec Skipgram (non-medical): [('viol', 0.6127277612686157), ('médicamenteux', 0.5928055644035339), ('détournera', 0.5880458950996399), ('bailleur', 0.5842579007148743), ('disponibilité', 0.57911616563797), ('collectif', 0.5757012963294983), ('outil', 0.5725282430648804), ('antidouleur', 0.5690655708312988), ('préconisations', 0.5683914422988892), ('précarisation', 0.5672846436500549)]\n",
            "FastText CBOW (medical): [(0.9999998211860657, 'Traitements'), (0.9999998211860657, 'écoulement'), (0.9999998211860657, 'allaitement'), (0.9999998211860657, 'ajustement'), (0.9999997615814209, 'Equipement'), (0.9999997615814209, 'Allaitement'), (0.9999996423721313, 'événement'), (0.9999996423721313, 'étroitement'), (0.9999996423721313, 'allongement'), (0.9999996423721313, 'évitement')]\n",
            "FastText CBOW (non-medical): [(0.9501925706863403, 'strictement'), (0.9474677443504333, 'logement'), (0.9429596066474915, 'fondement'), (0.9428707957267761, 'sereinement'), (0.9427201747894287, 'empêchement'), (0.9413843154907227, 'recrutement'), (0.941303551197052, 'abondement'), (0.9404850006103516, 'subitement'), (0.9400312900543213, 'faussement'), (0.9399470686912537, 'doctement')]\n",
            "\n",
            "Résultats pour le mot 'maladie' :\n",
            "Word2Vec CBOW (medical): [('charge', 0.9763893485069275), ('Parkinson', 0.9731909036636353), ('infection', 0.9731575846672058), ('prise', 0.9707357883453369), ('durée', 0.969545841217041), ('fonction', 0.9583693146705627), ('interféron', 0.9563800692558289), ('en', 0.956326425075531), ('mécanisme', 0.9540430307388306), ('arrêt', 0.9528994560241699)]\n",
            "Word2Vec Skipgram (medical): [('Parkinson', 0.8420491218566895), ('liée', 0.8344044089317322), ('avancé', 0.7975372672080994), ('avancée', 0.7857271432876587), ('chronique', 0.7846614122390747), ('leucémie', 0.7755605578422546), ('Crohn', 0.7724484801292419), ('Recklinghausen', 0.7634428143501282), ('affection', 0.7630590796470642), ('SIDA', 0.7556385397911072)]\n",
            "Word2Vec CBOW (non-medical): [('puissance', 0.6679896712303162), ('population', 0.6399984359741211), ('mondialisation', 0.6375951170921326), ('découverte', 0.6081206798553467), ('publicité', 0.6061772704124451), ('vente', 0.6005856394767761), ('couverture', 0.5975423455238342), ('conquête', 0.5941672325134277), ('contribution', 0.5928415656089783), ('caisse', 0.5921447277069092)]\n",
            "Word2Vec Skipgram (non-medical): [('Alzheimer', 0.6353644728660583), ('pneumonie', 0.6249831914901733), ('pneumopathie', 0.6207078695297241), ('famine', 0.6186621785163879), ('virale', 0.6180147528648376), ('cancéreuse', 0.6133074760437012), ('épidémie', 0.6121370792388916), ('atypique', 0.6094459891319275), ('aiguë', 0.5986117124557495), ('assurance', 0.5864587426185608)]\n",
            "FastText CBOW (medical): [(0.9999997019767761, 'souffrance'), (0.9999995827674866, 'somatostatine'), (0.9999995827674866, 'moteur'), (0.9999995827674866, 'Maladie'), (0.999999463558197, 'exencéphalie'), (0.999999463558197, 'carie'), (0.999999463558197, 'anale'), (0.999999463558197, 'propyle'), (0.999999463558197, 'thromboélastomètre'), (0.999999463558197, 'stimulante')]\n",
            "FastText CBOW (non-medical): [(0.8919163942337036, 'malnutrie'), (0.8467081189155579, 'malade'), (0.8277743458747864, 'viaduc'), (0.8250381946563721, 'vide'), (0.8074469566345215, 'cause'), (0.8061829805374146, 'magnitude'), (0.80561763048172, 'archéologie'), (0.8051275610923767, 'Ajej'), (0.799994170665741, 'GE'), (0.7982189655303955, 'canicule')]\n",
            "\n",
            "Résultats pour le mot 'solution' :\n",
            "Word2Vec CBOW (medical): [('diluer', 0.9863554835319519), ('buvable', 0.9679771661758423), ('poudre', 0.9619742631912231), ('délivrer', 0.9547668695449829), ('300', 0.9516616463661194), ('flacon', 0.9424455165863037), ('perfusion', 0.9402309060096741), ('croquer', 0.9387176632881165), ('comprimé', 0.9357682466506958), ('intraveineuse', 0.9323154091835022)]\n",
            "Word2Vec Skipgram (medical): [('diluer', 0.9249708652496338), ('réchauffer', 0.9180246591567993), ('Voie', 0.916334867477417), ('blanche', 0.915132462978363), ('buvable', 0.914792537689209), ('poudre', 0.9104329943656921), ('incolore', 0.9085532426834106), ('limpide', 0.9079540371894836), ('ambiante', 0.9077771306037903), ('Lepirudine', 0.8960805535316467)]\n",
            "Word2Vec CBOW (non-medical): [('alternative', 0.7183014154434204), ('garantie', 0.6651546359062195), ('représentation', 0.6588238477706909), ('démarche', 0.6474826335906982), ('règle', 0.6386118531227112), ('stratégie', 0.6333458423614502), ('reconci', 0.6307394504547119), ('difficulté', 0.6280405521392822), ('formule', 0.6260861158370972), ('manoeuvre', 0.6193484663963318)]\n",
            "Word2Vec Skipgram (non-medical): [('pacifique', 0.7032882571220398), ('consensuelle', 0.6418707370758057), ('garantissant', 0.638912558555603), ('acceptable', 0.61845463514328), ('lancinant', 0.6006118059158325), ('skier', 0.5944028496742249), ('agréée', 0.5733994245529175), ('aboutit', 0.573081910610199), ('satisfaisante', 0.5591938495635986), ('règle', 0.5559854507446289)]\n",
            "FastText CBOW (medical): [(0.9999995827674866, 'Dissolution'), (0.9999983906745911, 'évolution'), (0.9999982118606567, 'evolution'), (0.9999979734420776, 'dilution'), (0.999997615814209, 'Evolution'), (0.9999974966049194, 'microdélétion'), (0.9999974966049194, 'Pollution'), (0.9999973177909851, 'Solution'), (0.9999973177909851, 'Substitution'), (0.9999967813491821, 'exécution')]\n",
            "FastText CBOW (non-medical): [(0.9816164374351501, 'dissolution'), (0.9795569777488708, 'résolution'), (0.9713425040245056, 'évolution'), (0.967061460018158, 'dilution'), (0.9634311199188232, 'révolution'), (0.9486331939697266, 'pollution'), (0.9482023119926453, 'caution'), (0.9343692064285278, 'résorption'), (0.916965126991272, 'réinsertion'), (0.9151331782341003, 'abolition')]\n",
            "\n",
            "Résultats pour le mot 'jaune' :\n",
            "Word2Vec CBOW (medical): [('Polysorbate', 0.9944525957107544), ('96', 0.9941267967224121), ('18', 0.9939035773277283), ('171', 0.9936248064041138), ('37', 0.9929937720298767), ('Parahydroxybenzoate', 0.9926400184631348), ('gravés', 0.9925808310508728), ('172', 0.9924551248550415), ('octobre', 0.9919971823692322), ('35', 0.9917428493499756)]\n",
            "Word2Vec Skipgram (medical): [('pâle', 0.9528331160545349), ('15ml', 0.9386336803436279), ('PELLICULES', 0.9349735975265503), ('5ml', 0.9296143651008606), ('COMPRIMES', 0.9255802631378174), ('concentré', 0.9174021482467651), ('méthyle', 0.9143401980400085), ('orange', 0.9142564535140991), ('équivalent', 0.910821259021759), ('04', 0.9039181470870972)]\n",
            "Word2Vec CBOW (non-medical): [('maillot', 0.7841187715530396), ('Lachhab', 0.733799397945404), ('endossé', 0.7132395505905151), ('Baden', 0.7051541209220886), ('emparé', 0.7031389474868774), ('von', 0.6966821551322937), ('McGee', 0.6887884736061096), ('Lars', 0.6857060194015503), ('Saâdoune', 0.6812199354171753), ('Hicham', 0.676389753818512)]\n",
            "Word2Vec Skipgram (non-medical): [('maillot', 0.8025310635566711), ('emparé', 0.7449814677238464), ('Baden', 0.6976499557495117), ('Cooke', 0.6853134036064148), ('grenadine', 0.6793915033340454), ('pois', 0.6721760034561157), ('Bastad', 0.6670718789100647), ('Eastbourne', 0.6653897762298584), ('grimpeur', 0.6632561087608337), ('Pena', 0.6601642370223999)]\n",
            "FastText CBOW (medical): [(0.9999991059303284, 'une'), (0.9999991059303284, 'veine'), (0.9999991059303284, 'Lamivudine'), (0.9999990463256836, 'lamivudine'), (0.9999990463256836, 'dopamine'), (0.999998927116394, 'murine'), (0.999998927116394, 'Chlorpromazine'), (0.999998927116394, 'azathioprine'), (0.999998927116394, 'medicine'), (0.999998927116394, 'mineure')]\n",
            "FastText CBOW (non-medical): [(0.9388988018035889, 'lune'), (0.9260736107826233, 'brune'), (0.9221049547195435, 'Neptune'), (0.9147979021072388, 'Jeune'), (0.9145427346229553, 'dune'), (0.9137617349624634, 'lagune'), (0.9099608063697815, \"l'une\"), (0.9078187942504883, \"d'une\"), (0.8848009705543518, 'aune'), (0.8777278661727905, 'héroïne')]\n"
          ]
        }
      ],
      "source": [
        "word2vec_cbow_med = Word2Vec.load(\"model/word2vec_cbow_med.model\")\n",
        "word2vec_skipgram_med = Word2Vec.load(\"model/word2vec_skipgram_med.model\")\n",
        "word2vec_cbow_press = Word2Vec.load(\"model/word2vec_cbow_press.model\")\n",
        "word2vec_skipgram_press = Word2Vec.load(\"model/word2vec_skipgram_press.model\")\n",
        "\n",
        "fasttext_cbow_med = fasttext.load_model(\"model/fasttext_cbow_med.bin\")\n",
        "fasttext_cbow_press = fasttext.load_model(\"model/fasttext_cbow_press.bin\")\n",
        "\n",
        "for word in candidate_words:\n",
        "    print(f\"\\nRésultats pour le mot '{word}' :\")\n",
        "    print(\"Word2Vec CBOW (medical):\", gensim_most_similar(word2vec_cbow_med, word))\n",
        "    print(\"Word2Vec Skipgram (medical):\", gensim_most_similar(word2vec_skipgram_med, word))\n",
        "    print(\"Word2Vec CBOW (non-medical):\", gensim_most_similar(word2vec_cbow_press, word))\n",
        "    print(\"Word2Vec Skipgram (non-medical):\", gensim_most_similar(word2vec_skipgram_press, word))\n",
        "    print(\"FastText CBOW (medical):\", fasttext_cbow_med.get_nearest_neighbors(word))\n",
        "    print(\"FastText CBOW (non-medical):\", fasttext_cbow_press.get_nearest_neighbors(word))"
      ]
    },
    {
      "cell_type": "code",
      "execution_count": null,
      "metadata": {
        "colab": {
          "base_uri": "https://localhost:8080/"
        },
        "id": "vYwcRJcw5ISl",
        "outputId": "881a5429-d8ca-465a-b791-5f4f730e80fd"
      },
      "outputs": [
        {
          "name": "stdout",
          "output_type": "stream",
          "text": [
            "  adding: model/fasttext_cbow_med_100.bin (deflated 87%)\n",
            "  adding: model/fasttext_cbow_med_1.bin (deflated 87%)\n",
            "  adding: model/fasttext_cbow_med_20.bin (deflated 87%)\n",
            "  adding: model/fasttext_cbow_med_5.bin (deflated 87%)\n",
            "  adding: model/fasttext_cbow_med.bin (deflated 87%)\n",
            "  adding: model/fasttext_cbow_press.bin (deflated 80%)\n",
            "  adding: model/word2vec_cbow_med.model (deflated 10%)\n",
            "  adding: model/word2vec_cbow_med_train100.model (deflated 10%)\n",
            "  adding: model/word2vec_cbow_med_train1.model (deflated 9%)\n",
            "  adding: model/word2vec_cbow_med_train20.model (deflated 10%)\n",
            "  adding: model/word2vec_cbow_med_train5.model (deflated 10%)\n",
            "  adding: model/word2vec_cbow_press.model (deflated 10%)\n",
            "  adding: model/word2vec_skipgram_med.model (deflated 10%)\n",
            "  adding: model/word2vec_skipgram_press.model (deflated 10%)\n"
          ]
        }
      ],
      "source": [
        "# ! zip model.zip model/*"
      ]
    },
    {
      "cell_type": "code",
      "execution_count": null,
      "metadata": {
        "id": "vku3b1955MUK"
      },
      "outputs": [],
      "source": []
    }
  ],
  "metadata": {
    "accelerator": "GPU",
    "colab": {
      "gpuType": "T4",
      "provenance": []
    },
    "kernelspec": {
      "display_name": "Python 3",
      "name": "python3"
    },
    "language_info": {
      "name": "python"
    }
  },
  "nbformat": 4,
  "nbformat_minor": 0
}
